{
 "cells": [
  {
   "cell_type": "markdown",
   "metadata": {},
   "source": [
    "This file will be used to contain data processing components"
   ]
  },
  {
   "cell_type": "code",
   "execution_count": 1,
   "metadata": {},
   "outputs": [
    {
     "name": "stdout",
     "output_type": "stream",
     "text": [
      "Requirement already satisfied: boto3 in d:\\data_major\\icttm_submit\\env\\lib\\site-packages (1.34.72)\n",
      "Collecting pyspark\n",
      "  Using cached pyspark-3.5.1-py2.py3-none-any.whl\n",
      "Collecting delta-spark\n",
      "  Obtaining dependency information for delta-spark from https://files.pythonhosted.org/packages/0a/ee/dcf357307bdf8ef5436bb147159cf42c339e556b09c2eb1aec7e7b472022/delta_spark-3.1.0-py3-none-any.whl.metadata\n",
      "  Using cached delta_spark-3.1.0-py3-none-any.whl.metadata (1.9 kB)\n",
      "Collecting python-dotenv\n",
      "  Obtaining dependency information for python-dotenv from https://files.pythonhosted.org/packages/6a/3e/b68c118422ec867fa7ab88444e1274aa40681c606d59ac27de5a5588f082/python_dotenv-1.0.1-py3-none-any.whl.metadata\n",
      "  Using cached python_dotenv-1.0.1-py3-none-any.whl.metadata (23 kB)\n",
      "Requirement already satisfied: botocore<1.35.0,>=1.34.72 in d:\\data_major\\icttm_submit\\env\\lib\\site-packages (from boto3) (1.34.72)\n",
      "Requirement already satisfied: jmespath<2.0.0,>=0.7.1 in d:\\data_major\\icttm_submit\\env\\lib\\site-packages (from boto3) (1.0.1)\n",
      "Requirement already satisfied: s3transfer<0.11.0,>=0.10.0 in d:\\data_major\\icttm_submit\\env\\lib\\site-packages (from boto3) (0.10.1)\n",
      "Collecting py4j==0.10.9.7 (from pyspark)\n",
      "  Obtaining dependency information for py4j==0.10.9.7 from https://files.pythonhosted.org/packages/10/30/a58b32568f1623aaad7db22aa9eafc4c6c194b429ff35bdc55ca2726da47/py4j-0.10.9.7-py2.py3-none-any.whl.metadata\n",
      "  Using cached py4j-0.10.9.7-py2.py3-none-any.whl.metadata (1.5 kB)\n",
      "Collecting importlib-metadata>=1.0.0 (from delta-spark)\n",
      "  Obtaining dependency information for importlib-metadata>=1.0.0 from https://files.pythonhosted.org/packages/2d/0a/679461c511447ffaf176567d5c496d1de27cbe34a87df6677d7171b2fbd4/importlib_metadata-7.1.0-py3-none-any.whl.metadata\n",
      "  Using cached importlib_metadata-7.1.0-py3-none-any.whl.metadata (4.7 kB)\n",
      "Requirement already satisfied: python-dateutil<3.0.0,>=2.1 in d:\\data_major\\icttm_submit\\env\\lib\\site-packages (from botocore<1.35.0,>=1.34.72->boto3) (2.9.0.post0)\n",
      "Requirement already satisfied: urllib3!=2.2.0,<3,>=1.25.4 in d:\\data_major\\icttm_submit\\env\\lib\\site-packages (from botocore<1.35.0,>=1.34.72->boto3) (2.2.1)\n",
      "Collecting zipp>=0.5 (from importlib-metadata>=1.0.0->delta-spark)\n",
      "  Obtaining dependency information for zipp>=0.5 from https://files.pythonhosted.org/packages/c2/0a/ba9d0ee9536d3ef73a3448e931776e658b36f128d344e175bc32b092a8bf/zipp-3.18.1-py3-none-any.whl.metadata\n",
      "  Using cached zipp-3.18.1-py3-none-any.whl.metadata (3.5 kB)\n",
      "Requirement already satisfied: six>=1.5 in d:\\data_major\\icttm_submit\\env\\lib\\site-packages (from python-dateutil<3.0.0,>=2.1->botocore<1.35.0,>=1.34.72->boto3) (1.16.0)\n",
      "Using cached py4j-0.10.9.7-py2.py3-none-any.whl (200 kB)\n",
      "Using cached delta_spark-3.1.0-py3-none-any.whl (21 kB)\n",
      "Using cached python_dotenv-1.0.1-py3-none-any.whl (19 kB)\n",
      "Using cached importlib_metadata-7.1.0-py3-none-any.whl (24 kB)\n",
      "Using cached zipp-3.18.1-py3-none-any.whl (8.2 kB)\n",
      "Installing collected packages: py4j, zipp, python-dotenv, pyspark, importlib-metadata, delta-spark\n",
      "Successfully installed delta-spark-3.1.0 importlib-metadata-7.1.0 py4j-0.10.9.7 pyspark-3.5.1 python-dotenv-1.0.1 zipp-3.18.1\n",
      "Note: you may need to restart the kernel to use updated packages.\n"
     ]
    },
    {
     "name": "stderr",
     "output_type": "stream",
     "text": [
      "\n",
      "[notice] A new release of pip is available: 23.2.1 -> 24.0\n",
      "[notice] To update, run: d:\\Data_major\\icttm_submit\\env\\Scripts\\python.exe -m pip install --upgrade pip\n"
     ]
    }
   ],
   "source": [
    "%pip install boto3 pyspark delta-spark python-dotenv"
   ]
  },
  {
   "cell_type": "code",
   "execution_count": 2,
   "metadata": {},
   "outputs": [],
   "source": [
    "import os\n",
    "from pyspark.sql import SparkSession"
   ]
  },
  {
   "cell_type": "code",
   "execution_count": 3,
   "metadata": {},
   "outputs": [],
   "source": [
    "# Define S3 storage\n",
    "obj_storage_access_key = os.getenv('OBJ_STORAGE_ACCESS_KEY', 'i8UnD6H3PyxR0UFEuUY7')\n",
    "obj_storage_secret_key = os.getenv('OBJ_STORAGE_SECRET_KEY', '8JFkDk4otgUQd1EOlKIfQIQPq8EzxqEBSzBz8dda')\n",
    "obj_storage_endpoint = os.getenv('OBJ_STORAGE_ENDPOINT', 'http://localhost:9000')"
   ]
  },
  {
   "cell_type": "markdown",
   "metadata": {},
   "source": [
    "#### First methods: using spark to connect minio and load json data into spark dataframes, then merge them and write into single one json file\n",
    "\n",
    "I change to use hadoop-aws:3.3.4 beacuse in the folder `env\\Lib\\site-packages\\pyspark\\jars`, the hadoop files have version 3.3.4"
   ]
  },
  {
   "cell_type": "code",
   "execution_count": 7,
   "metadata": {},
   "outputs": [
    {
     "name": "stdout",
     "output_type": "stream",
     "text": [
      "+------------------------+----+----+------------+\n",
      "|_corrupt_record         |id  |name|type        |\n",
      "+------------------------+----+----+------------+\n",
      "|[                       |null|null|null        |\n",
      "|    {                   |null|null|null        |\n",
      "|        \"id\": \"0004\",   |null|null|null        |\n",
      "|        \"type\": \"donut\",|null|null|null        |\n",
      "|        \"name\": \"Jelly\",|null|null|null        |\n",
      "|        \"ppu\": 0.65,    |null|null|null        |\n",
      "|        \"batters\": {    |null|null|null        |\n",
      "|            \"batter\": [ |null|null|null        |\n",
      "|null                    |1001|null|Regular     |\n",
      "|null                    |1002|null|Chocolate   |\n",
      "|null                    |1003|null|Blueberry   |\n",
      "|null                    |1004|null|Devil's Food|\n",
      "|            ]           |null|null|null        |\n",
      "|        },              |null|null|null        |\n",
      "|        \"topping\": [    |null|null|null        |\n",
      "|null                    |5001|null|None        |\n",
      "|null                    |5002|null|Glazed      |\n",
      "|null                    |5003|null|Chocolate   |\n",
      "|null                    |5004|null|Maple       |\n",
      "|null                    |5005|null|Sugar       |\n",
      "+------------------------+----+----+------------+\n",
      "only showing top 20 rows\n",
      "\n",
      "+------------------------------+----+----+------------+\n",
      "|_corrupt_record               |id  |name|type        |\n",
      "+------------------------------+----+----+------------+\n",
      "|[                             |null|null|null        |\n",
      "|    {                         |null|null|null        |\n",
      "|        \"id\": \"0012\",         |null|null|null        |\n",
      "|        \"type\": \"donut\",      |null|null|null        |\n",
      "|        \"name\": \"Jelly Donut\",|null|null|null        |\n",
      "|        \"ppu\": 0.65,          |null|null|null        |\n",
      "|        \"batters\": {          |null|null|null        |\n",
      "|            \"batter\": [       |null|null|null        |\n",
      "|null                          |1001|null|Regular     |\n",
      "|null                          |1002|null|Chocolate   |\n",
      "|null                          |1003|null|Blueberry   |\n",
      "|null                          |1004|null|Devil's Food|\n",
      "|            ]                 |null|null|null        |\n",
      "|        },                    |null|null|null        |\n",
      "|        \"topping\": [          |null|null|null        |\n",
      "|null                          |5001|null|None        |\n",
      "|null                          |5002|null|Glazed      |\n",
      "|null                          |5003|null|Chocolate   |\n",
      "|null                          |5004|null|Maple       |\n",
      "|null                          |5005|null|Sugar       |\n",
      "+------------------------------+----+----+------------+\n",
      "only showing top 20 rows\n",
      "\n",
      "+--------------------------------+----+----+------------+\n",
      "|_corrupt_record                 |id  |name|type        |\n",
      "+--------------------------------+----+----+------------+\n",
      "|[                               |null|null|null        |\n",
      "|    {                           |null|null|null        |\n",
      "|        \"id\": \"0017\",           |null|null|null        |\n",
      "|        \"type\": \"donut\",        |null|null|null        |\n",
      "|        \"name\": \"Old Fashioned\",|null|null|null        |\n",
      "|        \"ppu\": 0.65,            |null|null|null        |\n",
      "|        \"batters\": {            |null|null|null        |\n",
      "|            \"batter\": [         |null|null|null        |\n",
      "|null                            |1001|null|Regular     |\n",
      "|null                            |1002|null|Chocolate   |\n",
      "|null                            |1003|null|Blueberry   |\n",
      "|null                            |1004|null|Devil's Food|\n",
      "|            ]                   |null|null|null        |\n",
      "|        },                      |null|null|null        |\n",
      "|        \"topping\": [            |null|null|null        |\n",
      "|null                            |5001|null|None        |\n",
      "|null                            |5002|null|Glazed      |\n",
      "|null                            |5003|null|Chocolate   |\n",
      "|null                            |5004|null|Maple       |\n",
      "|null                            |5005|null|Sugar       |\n",
      "+--------------------------------+----+----+------------+\n",
      "only showing top 20 rows\n",
      "\n",
      "+------------------------+----+----+------------+\n",
      "|_corrupt_record         |id  |name|type        |\n",
      "+------------------------+----+----+------------+\n",
      "|[                       |null|null|null        |\n",
      "|    {                   |null|null|null        |\n",
      "|        \"id\": \"0004\",   |null|null|null        |\n",
      "|        \"type\": \"donut\",|null|null|null        |\n",
      "|        \"name\": \"Jelly\",|null|null|null        |\n",
      "|        \"ppu\": 0.65,    |null|null|null        |\n",
      "|        \"batters\": {    |null|null|null        |\n",
      "|            \"batter\": [ |null|null|null        |\n",
      "|null                    |1001|null|Regular     |\n",
      "|null                    |1002|null|Chocolate   |\n",
      "|null                    |1003|null|Blueberry   |\n",
      "|null                    |1004|null|Devil's Food|\n",
      "|            ]           |null|null|null        |\n",
      "|        },              |null|null|null        |\n",
      "|        \"topping\": [    |null|null|null        |\n",
      "|null                    |5001|null|None        |\n",
      "|null                    |5002|null|Glazed      |\n",
      "|null                    |5003|null|Chocolate   |\n",
      "|null                    |5004|null|Maple       |\n",
      "|null                    |5005|null|Sugar       |\n",
      "+------------------------+----+----+------------+\n",
      "only showing top 20 rows\n",
      "\n"
     ]
    }
   ],
   "source": [
    "# You need to more configuration if you want to use minio as object storage \n",
    "# (hint: maybe you can using .config() method to set the configuration if you want using spark to read/write data from/to minio)\n",
    "spark = SparkSession \\\n",
    "    .builder \\\n",
    "    .appName(\"Python Spark SQL basic example\") \\\n",
    "    .config('spark.hadoop.fs.s3a.path.style.access', \"true\") \\\n",
    "    .config(\"spark.jars.packages\", \"org.apache.hadoop:hadoop-aws:3.3.4\") \\\n",
    "    .config('spark.hadoop.fs.s3a.access.key', obj_storage_access_key) \\\n",
    "    .config('spark.hadoop.fs.s3a.secret.key', obj_storage_secret_key) \\\n",
    "    .config('spark.hadoop.fs.s3a.endpoint', obj_storage_endpoint) \\\n",
    "    .getOrCreate()\n",
    "\n",
    "# Define path to read data from minio\n",
    "path_1 = \"s3a://data/data-raw/data.json\"\n",
    "path_2 = \"s3a://data/data-raw/data2.json\"\n",
    "path_3 = \"s3a://data/data-raw/data3.json\"\n",
    "\n",
    "df1 = spark.read.json(path_1)\n",
    "df2 = spark.read.json(path_2)\n",
    "df3 = spark.read.json(path_3)\n",
    "\n",
    "df1.show(truncate=False)\n",
    "df2.show(truncate=False)\n",
    "df3.show(truncate=False)\n",
    "\n",
    "df_merged = df1.union(df2).union(df3)\n",
    "df_merged.show(truncate=False)\n",
    "\n",
    "df_merged = df_merged.repartition(1)\n",
    "df_merged.write.format(\"json\").mode(\"overwrite\").save(\"merge_data\")"
   ]
  },
  {
   "cell_type": "markdown",
   "metadata": {},
   "source": [
    "#### Second methods: Using minio and json libraries to get content of json files first and then merge and load data into a spark dataframe\n",
    "\n",
    "Since the result of first method is messy and hard for analyzing or cleaning data, I have to find another solution and come up with this second method"
   ]
  },
  {
   "cell_type": "code",
   "execution_count": 5,
   "metadata": {},
   "outputs": [
    {
     "name": "stdout",
     "output_type": "stream",
     "text": [
      "Collecting minio\n",
      "  Obtaining dependency information for minio from https://files.pythonhosted.org/packages/45/a4/6f278051ad2bc03f3a0fdb4e182c9529009b0357631c2bb7c6ae70b4b0f6/minio-7.2.5-py3-none-any.whl.metadata\n",
      "  Using cached minio-7.2.5-py3-none-any.whl.metadata (6.4 kB)\n",
      "Requirement already satisfied: certifi in d:\\data_major\\icttm_submit\\env\\lib\\site-packages (from minio) (2024.2.2)\n",
      "Requirement already satisfied: urllib3 in d:\\data_major\\icttm_submit\\env\\lib\\site-packages (from minio) (2.2.1)\n",
      "Collecting argon2-cffi (from minio)\n",
      "  Obtaining dependency information for argon2-cffi from https://files.pythonhosted.org/packages/a4/6a/e8a041599e78b6b3752da48000b14c8d1e8a04ded09c88c714ba047f34f5/argon2_cffi-23.1.0-py3-none-any.whl.metadata\n",
      "  Using cached argon2_cffi-23.1.0-py3-none-any.whl.metadata (5.2 kB)\n",
      "Collecting pycryptodome (from minio)\n",
      "  Obtaining dependency information for pycryptodome from https://files.pythonhosted.org/packages/1f/90/d131c0eb643290230dfa4108b7c2d135122d88b714ad241d77beb4782a76/pycryptodome-3.20.0-cp35-abi3-win_amd64.whl.metadata\n",
      "  Using cached pycryptodome-3.20.0-cp35-abi3-win_amd64.whl.metadata (3.4 kB)\n",
      "Requirement already satisfied: typing-extensions in d:\\data_major\\icttm_submit\\env\\lib\\site-packages (from minio) (4.10.0)\n",
      "Collecting argon2-cffi-bindings (from argon2-cffi->minio)\n",
      "  Obtaining dependency information for argon2-cffi-bindings from https://files.pythonhosted.org/packages/37/2c/e34e47c7dee97ba6f01a6203e0383e15b60fb85d78ac9a15cd066f6fe28b/argon2_cffi_bindings-21.2.0-cp36-abi3-win_amd64.whl.metadata\n",
      "  Using cached argon2_cffi_bindings-21.2.0-cp36-abi3-win_amd64.whl.metadata (6.7 kB)\n",
      "Requirement already satisfied: cffi>=1.0.1 in d:\\data_major\\icttm_submit\\env\\lib\\site-packages (from argon2-cffi-bindings->argon2-cffi->minio) (1.16.0)\n",
      "Requirement already satisfied: pycparser in d:\\data_major\\icttm_submit\\env\\lib\\site-packages (from cffi>=1.0.1->argon2-cffi-bindings->argon2-cffi->minio) (2.21)\n",
      "Using cached minio-7.2.5-py3-none-any.whl (93 kB)\n",
      "Using cached argon2_cffi-23.1.0-py3-none-any.whl (15 kB)\n",
      "Using cached pycryptodome-3.20.0-cp35-abi3-win_amd64.whl (1.8 MB)\n",
      "Using cached argon2_cffi_bindings-21.2.0-cp36-abi3-win_amd64.whl (30 kB)\n",
      "Installing collected packages: pycryptodome, argon2-cffi-bindings, argon2-cffi, minio\n",
      "Successfully installed argon2-cffi-23.1.0 argon2-cffi-bindings-21.2.0 minio-7.2.5 pycryptodome-3.20.0\n",
      "Note: you may need to restart the kernel to use updated packages.\n"
     ]
    },
    {
     "name": "stderr",
     "output_type": "stream",
     "text": [
      "\n",
      "[notice] A new release of pip is available: 23.2.1 -> 24.0\n",
      "[notice] To update, run: d:\\Data_major\\icttm_submit\\env\\Scripts\\python.exe -m pip install --upgrade pip\n"
     ]
    }
   ],
   "source": [
    "%pip install minio"
   ]
  },
  {
   "cell_type": "code",
   "execution_count": 6,
   "metadata": {},
   "outputs": [],
   "source": [
    "# Merge data using Minio and write data to result.json file\n",
    "import json\n",
    "from minio import Minio\n",
    "\n",
    "bucket_name = \"data\"\n",
    "obj_storage_endpoint_without_path = obj_storage_endpoint.split('/')[2]\n",
    "\n",
    "#initialize minio client\n",
    "minio_client = Minio(obj_storage_endpoint_without_path, access_key=obj_storage_access_key, secret_key=obj_storage_secret_key, secure=False)\n",
    "\n",
    "# Get data from minio\n",
    "data1 = minio_client.get_object(bucket_name, \"data-raw/data.json\").read().decode('utf-8')\n",
    "data2 = minio_client.get_object(bucket_name, \"data-raw/data2.json\").read().decode('utf-8')\n",
    "data3 = minio_client.get_object(bucket_name, \"data-raw/data3.json\").read().decode('utf-8')\n",
    "\n",
    "json_data1 = json.loads(data1)\n",
    "json_data2 = json.loads(data2)\n",
    "json_data3 = json.loads(data3)\n",
    "\n",
    "# Merge data\n",
    "merged_data = json_data1 + json_data2 + json_data3\n",
    "with open('result.json', 'w') as f:\n",
    "    json.dump(merged_data, f)"
   ]
  },
  {
   "cell_type": "code",
   "execution_count": 8,
   "metadata": {},
   "outputs": [],
   "source": [
    "# Upload file to minio\n",
    "import boto3\n",
    "def upload_file_to_minio(file_path, minio_bucket, minio_object_name):\n",
    "    s3c = boto3.resource('s3',\n",
    "                        endpoint_url=obj_storage_endpoint,\n",
    "                        aws_access_key_id=obj_storage_access_key,\n",
    "                        aws_secret_access_key=obj_storage_secret_key,\n",
    "                        config=boto3.session.Config(signature_version='s3v4'),\n",
    "                        verify=False\n",
    "                        )\n",
    "    s3c.Bucket(minio_bucket).upload_file(file_path, minio_object_name)\n",
    "\n",
    "upload_file_to_minio('result.json', 'data', 'data-result/result.json')\n"
   ]
  },
  {
   "cell_type": "code",
   "execution_count": 9,
   "metadata": {},
   "outputs": [
    {
     "name": "stdout",
     "output_type": "stream",
     "text": [
      "Row count:  19\n",
      "root\n",
      " |-- batters: struct (nullable = true)\n",
      " |    |-- batter: array (nullable = true)\n",
      " |    |    |-- element: struct (containsNull = true)\n",
      " |    |    |    |-- id: string (nullable = true)\n",
      " |    |    |    |-- type: string (nullable = true)\n",
      " |-- filling: array (nullable = true)\n",
      " |    |-- element: struct (containsNull = true)\n",
      " |    |    |-- id: string (nullable = true)\n",
      " |    |    |-- name: string (nullable = true)\n",
      " |-- id: string (nullable = true)\n",
      " |-- name: string (nullable = true)\n",
      " |-- ppu: double (nullable = true)\n",
      " |-- topping: array (nullable = true)\n",
      " |    |-- element: struct (containsNull = true)\n",
      " |    |    |-- id: string (nullable = true)\n",
      " |    |    |-- type: string (nullable = true)\n",
      " |-- type: string (nullable = true)\n",
      "\n",
      "+-------------------------------------------------------------------------------+--------------------------------------------------------------------------------+----+-------------------+----+------------------------------------------------------------------------------------------------------------------------------------------------------------------------------------+-----+\n",
      "|batters                                                                        |filling                                                                         |id  |name               |ppu |topping                                                                                                                                                                             |type |\n",
      "+-------------------------------------------------------------------------------+--------------------------------------------------------------------------------+----+-------------------+----+------------------------------------------------------------------------------------------------------------------------------------------------------------------------------------+-----+\n",
      "|{[{1001, Regular}, {1002, Chocolate}, {1003, Blueberry}, {1004, Devil's Food}]}|null                                                                            |0004|Jelly              |0.65|[{5001, None}, {5002, Glazed}, {5003, Chocolate}, {5004, Maple}, {5005, Sugar}]                                                                                                     |donut|\n",
      "|{[{1001, Regular}, {1002, Chocolate}, {1005, Custard}]}                        |null                                                                            |0005|Custard-Filled     |0.75|[{5001, None}, {5002, Glazed}, {5003, Chocolate}, {5004, Maple}, {5005, Sugar}, {5006, Chocolate with Sprinkles}, {5007, Powdered Sugar}, {5008, Strawberry}, {5009, Vanilla Cream}]|donut|\n",
      "|{[{1001, Regular}, {1002, Chocolate}, {1003, Blueberry}, {1004, Devil's Food}]}|[{6001, None}, {6002, Custard}, {6003, Whipped Cream}, {6004, Strawberry Jelly}]|0006|Cinnamon Twist     |0.85|[{5001, None}, {5002, Glazed}, {5003, Chocolate}, {5004, Maple}, {5005, Sugar}, {5006, Chocolate with Sprinkles}, {5007, Powdered Sugar}, {5008, Strawberry}]                       |donut|\n",
      "|{[{1001, Regular}, {1002, Chocolate}, {1003, Blueberry}, {1004, Devil's Food}]}|null                                                                            |0007|Vanilla Frosted    |0.75|[{5001, None}, {5002, Glazed}, {5003, Chocolate}, {5004, Maple}, {5005, Sugar}, {5006, Chocolate with Sprinkles}, {5007, Powdered Sugar}, {5008, Strawberry}]                       |donut|\n",
      "|{[{1001, Regular}, {1002, Chocolate}, {1003, Blueberry}, {1004, Devil's Food}]}|null                                                                            |0008|Strawberry Frosted |0.85|[{5001, None}, {5002, Glazed}, {5003, Chocolate}, {5004, Maple}, {5005, Sugar}, {5006, Chocolate with Sprink}, {5007, Powdered Sugar}, {5008, Strawberry}]                          |donut|\n",
      "|{[{1001, Regular}, {1002, Chocolate}]}                                         |null                                                                            |0009|Chocolate Cake     |0.75|[{5001, None}, {5002, Glazed}, {5003, Chocolate}, {5004, Maple}, {5005, Sugar}, {5006, Chocolate with Sprinkles}, {5007, Powdered Sugar}]                                           |donut|\n",
      "|{[{1001, Regular}, {1002, Chocolate}]}                                         |null                                                                            |0010|Blueberry Cake     |0.55|[{5001, None}, {5002, Glazed}, {5003, Chocolate}, {5004, Maple}, {5005, Sugar}, {5006, Chocolate with Sprinkles}, {5007, Powdered Sugar}]                                           |donut|\n",
      "|{[{1001, Regular}, {1002, Chocolate}]}                                         |null                                                                            |0011|Devil's Food Cake  |0.75|[{5001, None}, {5002, Glazed}, {5003, Chocolate}, {5004, Maple}, {5005, Sugar}, {5006, Chocolate with Sprinkles}, {5007, Powdered Sugar}]                                           |donut|\n",
      "|{[{1001, Regular}, {1002, Chocolate}, {1003, Blueberry}, {1004, Devil's Food}]}|null                                                                            |0012|Jelly Donut        |0.65|[{5001, None}, {5002, Glazed}, {5003, Chocolate}, {5004, Maple}, {5005, Sugar}]                                                                                                     |donut|\n",
      "|{[{1001, Regular}]}                                                            |null                                                                            |0013|Raised Donut       |0.55|[{5001, None}, {5002, Glazed}, {5005, Sugar}]                                                                                                                                       |donut|\n",
      "|{[{1001, Regular}, {1002, Chocolate}]}                                         |null                                                                            |0014|Old Fashioned Donut|0.75|[{5001, None}, {5002, Glazed}, {5003, Chocolate}, {5004, Maple}]                                                                                                                    |donut|\n",
      "|{[{1001, Regular}]}                                                            |null                                                                            |0015|Cruller            |0.85|[{5001, None}, {5002, Glazed}, {5003, Chocolate}, {5004, Maple}, {5005, Sugar}]                                                                                                     |donut|\n",
      "|{[{1001, Regular}, {1002, Chocolate}]}                                         |[{6001, None}, {6002, Custard}, {6003, Whipped Cream}, {6004, Strawberry Jelly}]|0016|Filled Donut       |0.95|[{5001, None}, {5002, Glazed}, {5003, Chocolate}, {5004, Maple}, {5005, Sugar}]                                                                                                     |donut|\n",
      "|{[{1001, Regular}, {1002, Chocolate}, {1003, Blueberry}, {1004, Devil's Food}]}|null                                                                            |0017|Old Fashioned      |0.65|[{5001, None}, {5002, Glazed}, {5003, Chocolate}, {5004, Maple}, {5005, Sugar}]                                                                                                     |donut|\n",
      "|{[{1001, Regular}]}                                                            |null                                                                            |0018|Regular            |0.55|[{5001, None}, {5002, Glazed}, {5005, Sugar}]                                                                                                                                       |donut|\n",
      "|{[{1001, Regular}]}                                                            |[{6001, None}, {6002, Custard}, {6003, Whipped Cream}, {6004, Strawberry Jelly}]|0019|Blueberry          |0.75|[{5002, Glazed}, {5003, Chocolate}, {5004, Maple}]                                                                                                                                  |donut|\n",
      "|{[{1001, Regular}, {1002, Chocolate}, {1003, Blueberry}, {1004, Devil's Food}]}|null                                                                            |0004|Jelly              |0.65|[{5001, None}, {5002, Glazed}, {5003, Chocolate}, {5004, Maple}, {5005, Sugar}]                                                                                                     |donut|\n",
      "|{[{1001, Regular}]}                                                            |null                                                                            |0020|Devil's Food       |0.75|[{5002, Glazed}, {5003, Chocolate}]                                                                                                                                                 |donut|\n",
      "|{[{1001, Regular}, {1002, Chocolate}]}                                         |null                                                                            |0021|Vanilla Cream      |0.75|[{5002, Glazed}, {5004, Maple}]                                                                                                                                                     |donut|\n",
      "+-------------------------------------------------------------------------------+--------------------------------------------------------------------------------+----+-------------------+----+------------------------------------------------------------------------------------------------------------------------------------------------------------------------------------+-----+\n",
      "\n"
     ]
    }
   ],
   "source": [
    "# Load result.json file into spark dataframe\n",
    "result_df = spark.read.json(spark.sparkContext.parallelize(merged_data))\n",
    "row_count = result_df.count()\n",
    "print(\"Row count: \", row_count)\n",
    "result_df.printSchema()\n",
    "result_df.show(truncate=False)"
   ]
  },
  {
   "cell_type": "markdown",
   "metadata": {},
   "source": [
    "#### Check duplicate row"
   ]
  },
  {
   "cell_type": "code",
   "execution_count": 10,
   "metadata": {},
   "outputs": [
    {
     "name": "stdout",
     "output_type": "stream",
     "text": [
      "Duplicate rows found:\n",
      "+-------------------------------------------------------------------------------+-------+----+-----+----+-------------------------------------------------------------------------------+-----+-----+\n",
      "|batters                                                                        |filling|id  |name |ppu |topping                                                                        |type |count|\n",
      "+-------------------------------------------------------------------------------+-------+----+-----+----+-------------------------------------------------------------------------------+-----+-----+\n",
      "|{[{1001, Regular}, {1002, Chocolate}, {1003, Blueberry}, {1004, Devil's Food}]}|null   |0004|Jelly|0.65|[{5001, None}, {5002, Glazed}, {5003, Chocolate}, {5004, Maple}, {5005, Sugar}]|donut|2    |\n",
      "+-------------------------------------------------------------------------------+-------+----+-----+----+-------------------------------------------------------------------------------+-----+-----+\n",
      "\n"
     ]
    }
   ],
   "source": [
    "from pyspark.sql import functions as F\n",
    "\n",
    "# Group by all columns and count occurrences of each group\n",
    "duplicate_rows = result_df.groupBy(result_df.columns).count().where(F.col('count') > 1)\n",
    "\n",
    "if duplicate_rows.count() == 0:\n",
    "    print(\"No duplicate rows found.\")\n",
    "else:\n",
    "    print(\"Duplicate rows found:\")\n",
    "    duplicate_rows.show(truncate=False)"
   ]
  },
  {
   "cell_type": "markdown",
   "metadata": {},
   "source": [
    "#### Remove duplicate rows"
   ]
  },
  {
   "cell_type": "code",
   "execution_count": 11,
   "metadata": {},
   "outputs": [
    {
     "name": "stdout",
     "output_type": "stream",
     "text": [
      "Row count after removing duplicates:  18\n",
      "+-------------------------------------------------------------------------------+--------------------------------------------------------------------------------+----+-------------------+----+------------------------------------------------------------------------------------------------------------------------------------------------------------------------------------+-----+\n",
      "|batters                                                                        |filling                                                                         |id  |name               |ppu |topping                                                                                                                                                                             |type |\n",
      "+-------------------------------------------------------------------------------+--------------------------------------------------------------------------------+----+-------------------+----+------------------------------------------------------------------------------------------------------------------------------------------------------------------------------------+-----+\n",
      "|{[{1001, Regular}, {1002, Chocolate}, {1003, Blueberry}, {1004, Devil's Food}]}|null                                                                            |0004|Jelly              |0.65|[{5001, None}, {5002, Glazed}, {5003, Chocolate}, {5004, Maple}, {5005, Sugar}]                                                                                                     |donut|\n",
      "|{[{1001, Regular}, {1002, Chocolate}, {1005, Custard}]}                        |null                                                                            |0005|Custard-Filled     |0.75|[{5001, None}, {5002, Glazed}, {5003, Chocolate}, {5004, Maple}, {5005, Sugar}, {5006, Chocolate with Sprinkles}, {5007, Powdered Sugar}, {5008, Strawberry}, {5009, Vanilla Cream}]|donut|\n",
      "|{[{1001, Regular}, {1002, Chocolate}, {1003, Blueberry}, {1004, Devil's Food}]}|[{6001, None}, {6002, Custard}, {6003, Whipped Cream}, {6004, Strawberry Jelly}]|0006|Cinnamon Twist     |0.85|[{5001, None}, {5002, Glazed}, {5003, Chocolate}, {5004, Maple}, {5005, Sugar}, {5006, Chocolate with Sprinkles}, {5007, Powdered Sugar}, {5008, Strawberry}]                       |donut|\n",
      "|{[{1001, Regular}, {1002, Chocolate}, {1003, Blueberry}, {1004, Devil's Food}]}|null                                                                            |0007|Vanilla Frosted    |0.75|[{5001, None}, {5002, Glazed}, {5003, Chocolate}, {5004, Maple}, {5005, Sugar}, {5006, Chocolate with Sprinkles}, {5007, Powdered Sugar}, {5008, Strawberry}]                       |donut|\n",
      "|{[{1001, Regular}, {1002, Chocolate}, {1003, Blueberry}, {1004, Devil's Food}]}|null                                                                            |0008|Strawberry Frosted |0.85|[{5001, None}, {5002, Glazed}, {5003, Chocolate}, {5004, Maple}, {5005, Sugar}, {5006, Chocolate with Sprink}, {5007, Powdered Sugar}, {5008, Strawberry}]                          |donut|\n",
      "|{[{1001, Regular}, {1002, Chocolate}]}                                         |null                                                                            |0009|Chocolate Cake     |0.75|[{5001, None}, {5002, Glazed}, {5003, Chocolate}, {5004, Maple}, {5005, Sugar}, {5006, Chocolate with Sprinkles}, {5007, Powdered Sugar}]                                           |donut|\n",
      "|{[{1001, Regular}, {1002, Chocolate}]}                                         |null                                                                            |0010|Blueberry Cake     |0.55|[{5001, None}, {5002, Glazed}, {5003, Chocolate}, {5004, Maple}, {5005, Sugar}, {5006, Chocolate with Sprinkles}, {5007, Powdered Sugar}]                                           |donut|\n",
      "|{[{1001, Regular}, {1002, Chocolate}]}                                         |null                                                                            |0011|Devil's Food Cake  |0.75|[{5001, None}, {5002, Glazed}, {5003, Chocolate}, {5004, Maple}, {5005, Sugar}, {5006, Chocolate with Sprinkles}, {5007, Powdered Sugar}]                                           |donut|\n",
      "|{[{1001, Regular}, {1002, Chocolate}, {1003, Blueberry}, {1004, Devil's Food}]}|null                                                                            |0012|Jelly Donut        |0.65|[{5001, None}, {5002, Glazed}, {5003, Chocolate}, {5004, Maple}, {5005, Sugar}]                                                                                                     |donut|\n",
      "|{[{1001, Regular}]}                                                            |null                                                                            |0013|Raised Donut       |0.55|[{5001, None}, {5002, Glazed}, {5005, Sugar}]                                                                                                                                       |donut|\n",
      "|{[{1001, Regular}, {1002, Chocolate}]}                                         |null                                                                            |0014|Old Fashioned Donut|0.75|[{5001, None}, {5002, Glazed}, {5003, Chocolate}, {5004, Maple}]                                                                                                                    |donut|\n",
      "|{[{1001, Regular}]}                                                            |null                                                                            |0015|Cruller            |0.85|[{5001, None}, {5002, Glazed}, {5003, Chocolate}, {5004, Maple}, {5005, Sugar}]                                                                                                     |donut|\n",
      "|{[{1001, Regular}, {1002, Chocolate}]}                                         |[{6001, None}, {6002, Custard}, {6003, Whipped Cream}, {6004, Strawberry Jelly}]|0016|Filled Donut       |0.95|[{5001, None}, {5002, Glazed}, {5003, Chocolate}, {5004, Maple}, {5005, Sugar}]                                                                                                     |donut|\n",
      "|{[{1001, Regular}, {1002, Chocolate}, {1003, Blueberry}, {1004, Devil's Food}]}|null                                                                            |0017|Old Fashioned      |0.65|[{5001, None}, {5002, Glazed}, {5003, Chocolate}, {5004, Maple}, {5005, Sugar}]                                                                                                     |donut|\n",
      "|{[{1001, Regular}]}                                                            |null                                                                            |0018|Regular            |0.55|[{5001, None}, {5002, Glazed}, {5005, Sugar}]                                                                                                                                       |donut|\n",
      "|{[{1001, Regular}]}                                                            |[{6001, None}, {6002, Custard}, {6003, Whipped Cream}, {6004, Strawberry Jelly}]|0019|Blueberry          |0.75|[{5002, Glazed}, {5003, Chocolate}, {5004, Maple}]                                                                                                                                  |donut|\n",
      "|{[{1001, Regular}]}                                                            |null                                                                            |0020|Devil's Food       |0.75|[{5002, Glazed}, {5003, Chocolate}]                                                                                                                                                 |donut|\n",
      "|{[{1001, Regular}, {1002, Chocolate}]}                                         |null                                                                            |0021|Vanilla Cream      |0.75|[{5002, Glazed}, {5004, Maple}]                                                                                                                                                     |donut|\n",
      "+-------------------------------------------------------------------------------+--------------------------------------------------------------------------------+----+-------------------+----+------------------------------------------------------------------------------------------------------------------------------------------------------------------------------------+-----+\n",
      "\n"
     ]
    }
   ],
   "source": [
    "# Remove duplicate rows\n",
    "result_df_no_duplicates = result_df.dropDuplicates()\n",
    "row_count_no_duplicates = result_df_no_duplicates.count()\n",
    "print(\"Row count after removing duplicates: \", row_count_no_duplicates)\n",
    "result_df_no_duplicates.show(truncate=False)"
   ]
  },
  {
   "cell_type": "markdown",
   "metadata": {},
   "source": [
    "### Save final result into a csv file\n",
    "##### About the final requirement, I'm confused at this line: `The final result is the csv file uploaded to minio or not and can the csv file be read or not.` Because from the begining, I process with json files and upload the json file (result.json) to minio but not any csv files."
   ]
  },
  {
   "cell_type": "code",
   "execution_count": 12,
   "metadata": {},
   "outputs": [],
   "source": [
    "# This code will case error because batters, filling, topping columns has data type which is not supported by csv\n",
    "# result_df_no_duplicates.write.csv(\"final_result.csv\", header=True)\n",
    "\n",
    "# So I have to convert the data type of those columns to string\n",
    "from pyspark.sql.types import StringType\n",
    "\n",
    "result_df_no_duplicates = result_df_no_duplicates.withColumn(\"batters\", result_df_no_duplicates[\"batters\"].cast(StringType()))\n",
    "result_df_no_duplicates = result_df_no_duplicates.withColumn(\"filling\", result_df_no_duplicates[\"filling\"].cast(StringType()))\n",
    "result_df_no_duplicates = result_df_no_duplicates.withColumn(\"topping\", result_df_no_duplicates[\"topping\"].cast(StringType()))\n",
    "\n",
    "# Create a folder named final_result and inside the folder there will be one csv file\n",
    "result_df_no_duplicates.write.mode(\"overwrite\").csv(\"final_result\", header=True)"
   ]
  },
  {
   "cell_type": "markdown",
   "metadata": {},
   "source": [
    "#### Check if the csv can be read or not"
   ]
  },
  {
   "cell_type": "code",
   "execution_count": 13,
   "metadata": {},
   "outputs": [
    {
     "name": "stdout",
     "output_type": "stream",
     "text": [
      "Row count:  18\n",
      "root\n",
      " |-- batters: string (nullable = true)\n",
      " |-- filling: string (nullable = true)\n",
      " |-- id: string (nullable = true)\n",
      " |-- name: string (nullable = true)\n",
      " |-- ppu: string (nullable = true)\n",
      " |-- topping: string (nullable = true)\n",
      " |-- type: string (nullable = true)\n",
      "\n",
      "+-------------------------------------------------------------------------------+--------------------------------------------------------------------------------+----+-------------------+----+------------------------------------------------------------------------------------------------------------------------------------------------------------------------------------+-----+\n",
      "|batters                                                                        |filling                                                                         |id  |name               |ppu |topping                                                                                                                                                                             |type |\n",
      "+-------------------------------------------------------------------------------+--------------------------------------------------------------------------------+----+-------------------+----+------------------------------------------------------------------------------------------------------------------------------------------------------------------------------------+-----+\n",
      "|{[{1001, Regular}, {1002, Chocolate}, {1003, Blueberry}, {1004, Devil's Food}]}|null                                                                            |0004|Jelly              |0.65|[{5001, None}, {5002, Glazed}, {5003, Chocolate}, {5004, Maple}, {5005, Sugar}]                                                                                                     |donut|\n",
      "|{[{1001, Regular}, {1002, Chocolate}, {1005, Custard}]}                        |null                                                                            |0005|Custard-Filled     |0.75|[{5001, None}, {5002, Glazed}, {5003, Chocolate}, {5004, Maple}, {5005, Sugar}, {5006, Chocolate with Sprinkles}, {5007, Powdered Sugar}, {5008, Strawberry}, {5009, Vanilla Cream}]|donut|\n",
      "|{[{1001, Regular}, {1002, Chocolate}, {1003, Blueberry}, {1004, Devil's Food}]}|[{6001, None}, {6002, Custard}, {6003, Whipped Cream}, {6004, Strawberry Jelly}]|0006|Cinnamon Twist     |0.85|[{5001, None}, {5002, Glazed}, {5003, Chocolate}, {5004, Maple}, {5005, Sugar}, {5006, Chocolate with Sprinkles}, {5007, Powdered Sugar}, {5008, Strawberry}]                       |donut|\n",
      "|{[{1001, Regular}, {1002, Chocolate}, {1003, Blueberry}, {1004, Devil's Food}]}|null                                                                            |0007|Vanilla Frosted    |0.75|[{5001, None}, {5002, Glazed}, {5003, Chocolate}, {5004, Maple}, {5005, Sugar}, {5006, Chocolate with Sprinkles}, {5007, Powdered Sugar}, {5008, Strawberry}]                       |donut|\n",
      "|{[{1001, Regular}, {1002, Chocolate}, {1003, Blueberry}, {1004, Devil's Food}]}|null                                                                            |0008|Strawberry Frosted |0.85|[{5001, None}, {5002, Glazed}, {5003, Chocolate}, {5004, Maple}, {5005, Sugar}, {5006, Chocolate with Sprink}, {5007, Powdered Sugar}, {5008, Strawberry}]                          |donut|\n",
      "|{[{1001, Regular}, {1002, Chocolate}]}                                         |null                                                                            |0009|Chocolate Cake     |0.75|[{5001, None}, {5002, Glazed}, {5003, Chocolate}, {5004, Maple}, {5005, Sugar}, {5006, Chocolate with Sprinkles}, {5007, Powdered Sugar}]                                           |donut|\n",
      "|{[{1001, Regular}, {1002, Chocolate}]}                                         |null                                                                            |0010|Blueberry Cake     |0.55|[{5001, None}, {5002, Glazed}, {5003, Chocolate}, {5004, Maple}, {5005, Sugar}, {5006, Chocolate with Sprinkles}, {5007, Powdered Sugar}]                                           |donut|\n",
      "|{[{1001, Regular}, {1002, Chocolate}]}                                         |null                                                                            |0011|Devil's Food Cake  |0.75|[{5001, None}, {5002, Glazed}, {5003, Chocolate}, {5004, Maple}, {5005, Sugar}, {5006, Chocolate with Sprinkles}, {5007, Powdered Sugar}]                                           |donut|\n",
      "|{[{1001, Regular}, {1002, Chocolate}, {1003, Blueberry}, {1004, Devil's Food}]}|null                                                                            |0012|Jelly Donut        |0.65|[{5001, None}, {5002, Glazed}, {5003, Chocolate}, {5004, Maple}, {5005, Sugar}]                                                                                                     |donut|\n",
      "|{[{1001, Regular}]}                                                            |null                                                                            |0013|Raised Donut       |0.55|[{5001, None}, {5002, Glazed}, {5005, Sugar}]                                                                                                                                       |donut|\n",
      "|{[{1001, Regular}, {1002, Chocolate}]}                                         |null                                                                            |0014|Old Fashioned Donut|0.75|[{5001, None}, {5002, Glazed}, {5003, Chocolate}, {5004, Maple}]                                                                                                                    |donut|\n",
      "|{[{1001, Regular}]}                                                            |null                                                                            |0015|Cruller            |0.85|[{5001, None}, {5002, Glazed}, {5003, Chocolate}, {5004, Maple}, {5005, Sugar}]                                                                                                     |donut|\n",
      "|{[{1001, Regular}, {1002, Chocolate}]}                                         |[{6001, None}, {6002, Custard}, {6003, Whipped Cream}, {6004, Strawberry Jelly}]|0016|Filled Donut       |0.95|[{5001, None}, {5002, Glazed}, {5003, Chocolate}, {5004, Maple}, {5005, Sugar}]                                                                                                     |donut|\n",
      "|{[{1001, Regular}, {1002, Chocolate}, {1003, Blueberry}, {1004, Devil's Food}]}|null                                                                            |0017|Old Fashioned      |0.65|[{5001, None}, {5002, Glazed}, {5003, Chocolate}, {5004, Maple}, {5005, Sugar}]                                                                                                     |donut|\n",
      "|{[{1001, Regular}]}                                                            |null                                                                            |0018|Regular            |0.55|[{5001, None}, {5002, Glazed}, {5005, Sugar}]                                                                                                                                       |donut|\n",
      "|{[{1001, Regular}]}                                                            |[{6001, None}, {6002, Custard}, {6003, Whipped Cream}, {6004, Strawberry Jelly}]|0019|Blueberry          |0.75|[{5002, Glazed}, {5003, Chocolate}, {5004, Maple}]                                                                                                                                  |donut|\n",
      "|{[{1001, Regular}]}                                                            |null                                                                            |0020|Devil's Food       |0.75|[{5002, Glazed}, {5003, Chocolate}]                                                                                                                                                 |donut|\n",
      "|{[{1001, Regular}, {1002, Chocolate}]}                                         |null                                                                            |0021|Vanilla Cream      |0.75|[{5002, Glazed}, {5004, Maple}]                                                                                                                                                     |donut|\n",
      "+-------------------------------------------------------------------------------+--------------------------------------------------------------------------------+----+-------------------+----+------------------------------------------------------------------------------------------------------------------------------------------------------------------------------------+-----+\n",
      "\n"
     ]
    }
   ],
   "source": [
    "verified_csv_df = spark.read.csv(\"final_result\\part-00000-a0c6a582-4876-4b7d-8a7b-68085592f674-c000.csv\", header=True)\n",
    "count_row = verified_csv_df.count()\n",
    "print(\"Row count: \", count_row)\n",
    "verified_csv_df.printSchema()\n",
    "verified_csv_df.show(truncate=False)"
   ]
  }
 ],
 "metadata": {
  "kernelspec": {
   "display_name": ".venv",
   "language": "python",
   "name": "python3"
  },
  "language_info": {
   "codemirror_mode": {
    "name": "ipython",
    "version": 3
   },
   "file_extension": ".py",
   "mimetype": "text/x-python",
   "name": "python",
   "nbconvert_exporter": "python",
   "pygments_lexer": "ipython3",
   "version": "3.11.5"
  }
 },
 "nbformat": 4,
 "nbformat_minor": 2
}
